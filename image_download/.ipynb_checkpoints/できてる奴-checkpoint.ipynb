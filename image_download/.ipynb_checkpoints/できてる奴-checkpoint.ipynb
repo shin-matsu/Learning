{
 "cells": [
  {
   "cell_type": "code",
   "execution_count": 1,
   "metadata": {},
   "outputs": [
    {
     "ename": "ImportError",
     "evalue": "cannot import name 'cross_validation'",
     "output_type": "error",
     "traceback": [
      "\u001b[0;31m---------------------------------------------------------------------------\u001b[0m",
      "\u001b[0;31mImportError\u001b[0m                               Traceback (most recent call last)",
      "\u001b[0;32m<ipython-input-1-cb98d3c928d2>\u001b[0m in \u001b[0;36m<module>\u001b[0;34m\u001b[0m\n\u001b[1;32m      2\u001b[0m \u001b[0;32mimport\u001b[0m \u001b[0mos\u001b[0m\u001b[0;34m,\u001b[0m \u001b[0mglob\u001b[0m                         \u001b[0;31m#ファイルを扱う、ファイルの一覧を取得する\u001b[0m\u001b[0;34m\u001b[0m\u001b[0;34m\u001b[0m\u001b[0m\n\u001b[1;32m      3\u001b[0m \u001b[0;32mimport\u001b[0m \u001b[0mnumpy\u001b[0m \u001b[0;32mas\u001b[0m \u001b[0mnp\u001b[0m                      \u001b[0;31m#配列を扱うため\u001b[0m\u001b[0;34m\u001b[0m\u001b[0;34m\u001b[0m\u001b[0m\n\u001b[0;32m----> 4\u001b[0;31m \u001b[0;32mfrom\u001b[0m \u001b[0msklearn\u001b[0m \u001b[0;32mimport\u001b[0m \u001b[0mcross_validation\u001b[0m    \u001b[0;31m#データをトレーニング用とテストに分けるためのツール\u001b[0m\u001b[0;34m\u001b[0m\u001b[0;34m\u001b[0m\u001b[0m\n\u001b[0m\u001b[1;32m      5\u001b[0m \u001b[0;34m\u001b[0m\u001b[0m\n\u001b[1;32m      6\u001b[0m \u001b[0mclasses\u001b[0m \u001b[0;34m=\u001b[0m \u001b[0;34m[\u001b[0m\u001b[0;34m\"monkey\"\u001b[0m\u001b[0;34m,\u001b[0m\u001b[0;34m\"boar\"\u001b[0m\u001b[0;34m,\u001b[0m\u001b[0;34m\"crow\"\u001b[0m\u001b[0;34m]\u001b[0m      \u001b[0;31m#検索した単語\u001b[0m\u001b[0;34m\u001b[0m\u001b[0;34m\u001b[0m\u001b[0m\n",
      "\u001b[0;31mImportError\u001b[0m: cannot import name 'cross_validation'"
     ]
    }
   ],
   "source": [
    "from PIL import Image                   #\n",
    "import os, glob                         #ファイルを扱う、ファイルの一覧を取得する\n",
    "import numpy as np                      #配列を扱うため\n",
    "from sklearn import cross_validation    #データをトレーニング用とテストに分けるためのツール\n",
    "\n",
    "classes = [\"monkey\",\"boar\",\"crow\"]      #検索した単語\n",
    "num_classes = len(classes)              #クラスの数を変数へ\n",
    "image_size = 50                         #計算時間短縮のためサイズを小さく変更\n",
    "\n",
    "#画像の読み込み\n",
    "\n",
    "X = []                                  #画像データを入れる空の配列\n",
    "Y = []                                  #ラベルデータを入れる空の配列\n",
    "\n",
    "for index, classlabel in enumerate(classes):                 #クラスを順番に取り出して、同時に番号も入れる\n",
    "    phtos_dir = \"./\" + classlabel                            #画像のディレクトリ\n",
    "    files = glob.glob(phtos_dir + \"/*.jpg\")             #ファイルの一覧をまとめて取得\n",
    "    #一覧の中からファイルを取り出す\n",
    "    for i, file in enumerate(files):\n",
    "        if i >= 200: break                              #200回を超えたら処理しない\n",
    "        image = Image.open(file)                        #ファイルを開く\n",
    "        image = image.convert(\"RGB\")                    #ファイルを赤青緑に変換\n",
    "        image = image.resize((image_size, image_size))  #サイズを揃える\n",
    "        data = np.asarray(image)                        #イメージを数字の配列に変換して入れる\n",
    "        X.append(data)                                  #Xの最後尾に追加\n",
    "        Y.append(index)                                 #Yの最後尾に追加（順番に数字が入る）\n",
    "\n",
    "X = np.array()      #TensorFlowが扱いやすいデータ型に揃える\n",
    "Y = np.array()       #TensorFlowが扱いやすいデータ型に揃える\n"
   ]
  },
  {
   "cell_type": "code",
   "execution_count": 2,
   "metadata": {},
   "outputs": [
    {
     "ename": "NameError",
     "evalue": "name 'X' is not defined",
     "output_type": "error",
     "traceback": [
      "\u001b[0;31m---------------------------------------------------------------------------\u001b[0m",
      "\u001b[0;31mNameError\u001b[0m                                 Traceback (most recent call last)",
      "\u001b[0;32m<ipython-input-2-19c40ecbd036>\u001b[0m in \u001b[0;36m<module>\u001b[0;34m\u001b[0m\n\u001b[0;32m----> 1\u001b[0;31m \u001b[0mX\u001b[0m\u001b[0;34m[\u001b[0m\u001b[0;36m0\u001b[0m\u001b[0;34m]\u001b[0m\u001b[0;34m\u001b[0m\u001b[0;34m\u001b[0m\u001b[0m\n\u001b[0m",
      "\u001b[0;31mNameError\u001b[0m: name 'X' is not defined"
     ]
    }
   ],
   "source": [
    "X[0]"
   ]
  },
  {
   "cell_type": "code",
   "execution_count": 3,
   "metadata": {},
   "outputs": [
    {
     "ename": "ImportError",
     "evalue": "cannot import name 'cross_validation'",
     "output_type": "error",
     "traceback": [
      "\u001b[0;31m---------------------------------------------------------------------------\u001b[0m",
      "\u001b[0;31mImportError\u001b[0m                               Traceback (most recent call last)",
      "\u001b[0;32m<ipython-input-3-7b5f60c5197c>\u001b[0m in \u001b[0;36m<module>\u001b[0;34m\u001b[0m\n\u001b[0;32m----> 1\u001b[0;31m \u001b[0;32mfrom\u001b[0m \u001b[0msklearn\u001b[0m \u001b[0;32mimport\u001b[0m \u001b[0mcross_validation\u001b[0m\u001b[0;34m\u001b[0m\u001b[0;34m\u001b[0m\u001b[0m\n\u001b[0m",
      "\u001b[0;31mImportError\u001b[0m: cannot import name 'cross_validation'"
     ]
    }
   ],
   "source": [
    "from sklearn import cross_validation"
   ]
  },
  {
   "cell_type": "code",
   "execution_count": 4,
   "metadata": {},
   "outputs": [
    {
     "ename": "SyntaxError",
     "evalue": "invalid character in identifier (<ipython-input-4-77522cec95f4>, line 3)",
     "output_type": "error",
     "traceback": [
      "\u001b[0;36m  File \u001b[0;32m\"<ipython-input-4-77522cec95f4>\"\u001b[0;36m, line \u001b[0;32m3\u001b[0m\n\u001b[0;31m    ↑これは古いらしい。新しくは\u001b[0m\n\u001b[0m                 ^\u001b[0m\n\u001b[0;31mSyntaxError\u001b[0m\u001b[0;31m:\u001b[0m invalid character in identifier\n"
     ]
    }
   ],
   "source": [
    "from sklearn import cross_validation\n",
    "\n",
    "↑これは古いらしい。新しくは\n",
    "\n",
    "from sklearn import model_selection"
   ]
  },
  {
   "cell_type": "code",
   "execution_count": 5,
   "metadata": {},
   "outputs": [
    {
     "ename": "TypeError",
     "evalue": "Required argument 'object' (pos 1) not found",
     "output_type": "error",
     "traceback": [
      "\u001b[0;31m---------------------------------------------------------------------------\u001b[0m",
      "\u001b[0;31mTypeError\u001b[0m                                 Traceback (most recent call last)",
      "\u001b[0;32m<ipython-input-5-f0c043092c9f>\u001b[0m in \u001b[0;36m<module>\u001b[0;34m\u001b[0m\n\u001b[1;32m     27\u001b[0m         \u001b[0mY\u001b[0m\u001b[0;34m.\u001b[0m\u001b[0mappend\u001b[0m\u001b[0;34m(\u001b[0m\u001b[0mindex\u001b[0m\u001b[0;34m)\u001b[0m                                 \u001b[0;31m#Yの最後尾に追加（順番に数字が入る）\u001b[0m\u001b[0;34m\u001b[0m\u001b[0;34m\u001b[0m\u001b[0m\n\u001b[1;32m     28\u001b[0m \u001b[0;34m\u001b[0m\u001b[0m\n\u001b[0;32m---> 29\u001b[0;31m \u001b[0mX\u001b[0m \u001b[0;34m=\u001b[0m \u001b[0mnp\u001b[0m\u001b[0;34m.\u001b[0m\u001b[0marray\u001b[0m\u001b[0;34m(\u001b[0m\u001b[0;34m)\u001b[0m      \u001b[0;31m#TensorFlowが扱いやすいデータ型に揃える\u001b[0m\u001b[0;34m\u001b[0m\u001b[0;34m\u001b[0m\u001b[0m\n\u001b[0m\u001b[1;32m     30\u001b[0m \u001b[0mY\u001b[0m \u001b[0;34m=\u001b[0m \u001b[0mnp\u001b[0m\u001b[0;34m.\u001b[0m\u001b[0marray\u001b[0m\u001b[0;34m(\u001b[0m\u001b[0;34m)\u001b[0m       \u001b[0;31m#TensorFlowが扱いやすいデータ型に揃える\u001b[0m\u001b[0;34m\u001b[0m\u001b[0;34m\u001b[0m\u001b[0m\n",
      "\u001b[0;31mTypeError\u001b[0m: Required argument 'object' (pos 1) not found"
     ]
    }
   ],
   "source": [
    "from PIL import Image                   #\n",
    "import os, glob                         #ファイルを扱う、ファイルの一覧を取得する\n",
    "import numpy as np                      #配列を扱うため\n",
    "#from sklearn import cross_validation    #データをトレーニング用とテストに分けるためのツール\n",
    "from sklearn import model_selection\n",
    "\n",
    "classes = [\"monkey\",\"boar\",\"crow\"]      #検索した単語\n",
    "num_classes = len(classes)              #クラスの数を変数へ\n",
    "image_size = 50                         #計算時間短縮のためサイズを小さく変更\n",
    "\n",
    "#画像の読み込み\n",
    "\n",
    "X = []                                  #画像データを入れる空の配列\n",
    "Y = []                                  #ラベルデータを入れる空の配列\n",
    "\n",
    "for index, classlabel in enumerate(classes):                 #クラスを順番に取り出して、同時に番号も入れる\n",
    "    phtos_dir = \"./\" + classlabel                            #画像のディレクトリ\n",
    "    files = glob.glob(phtos_dir + \"/*.jpg\")             #ファイルの一覧をまとめて取得\n",
    "    #一覧の中からファイルを取り出す\n",
    "    for i, file in enumerate(files):\n",
    "        if i >= 200: break                              #200回を超えたら処理しない\n",
    "        image = Image.open(file)                        #ファイルを開く\n",
    "        image = image.convert(\"RGB\")                    #ファイルを赤青緑に変換\n",
    "        image = image.resize((image_size, image_size))  #サイズを揃える\n",
    "        data = np.asarray(image)                        #イメージを数字の配列に変換して入れる\n",
    "        X.append(data)                                  #Xの最後尾に追加\n",
    "        Y.append(index)                                 #Yの最後尾に追加（順番に数字が入る）\n",
    "\n",
    "X = np.array()      #TensorFlowが扱いやすいデータ型に揃える\n",
    "Y = np.array()       #TensorFlowが扱いやすいデータ型に揃える\n"
   ]
  },
  {
   "cell_type": "code",
   "execution_count": 6,
   "metadata": {},
   "outputs": [],
   "source": [
    "from PIL import Image                   #\n",
    "import os, glob                         #ファイルを扱う、ファイルの一覧を取得する\n",
    "import numpy as np                      #配列を扱うため\n",
    "#from sklearn import cross_validation    #データをトレーニング用とテストに分けるためのツール\n",
    "from sklearn import model_selection\n",
    "\n",
    "classes = [\"monkey\",\"boar\",\"crow\"]      #検索した単語\n",
    "num_classes = len(classes)              #クラスの数を変数へ\n",
    "image_size = 50                         #計算時間短縮のためサイズを小さく変更\n",
    "\n",
    "#画像の読み込み\n",
    "\n",
    "X = []                                  #画像データを入れる空の配列\n",
    "Y = []                                  #ラベルデータを入れる空の配列\n",
    "\n",
    "for index, classlabel in enumerate(classes):                 #クラスを順番に取り出して、同時に番号も入れる\n",
    "    phtos_dir = \"./\" + classlabel                            #画像のディレクトリ\n",
    "    files = glob.glob(phtos_dir + \"/*.jpg\")             #ファイルの一覧をまとめて取得\n",
    "    #一覧の中からファイルを取り出す\n",
    "    for i, file in enumerate(files):\n",
    "        if i >= 200: break                              #200回を超えたら処理しない\n",
    "        image = Image.open(file)                        #ファイルを開く\n",
    "        image = image.convert(\"RGB\")                    #ファイルを赤青緑に変換\n",
    "        image = image.resize((image_size, image_size))  #サイズを揃える\n",
    "        data = np.asarray(image)                        #イメージを数字の配列に変換して入れる\n",
    "        X.append(data)                                  #Xの最後尾に追加\n",
    "        Y.append(index)                                 #Yの最後尾に追加（順番に数字が入る）\n",
    "\n",
    "X = np.array(X)      #TensorFlowが扱いやすいデータ型に揃える\n",
    "Y = np.array(X)      #TensorFlowが扱いやすいデータ型に揃える\n"
   ]
  },
  {
   "cell_type": "code",
   "execution_count": 7,
   "metadata": {},
   "outputs": [
    {
     "data": {
      "text/plain": [
       "array([[[196, 155, 103],\n",
       "        [206, 175, 131],\n",
       "        [205, 177, 137],\n",
       "        ...,\n",
       "        [225, 183, 143],\n",
       "        [229, 178, 135],\n",
       "        [217, 165, 118]],\n",
       "\n",
       "       [[207, 130,  76],\n",
       "        [187, 124,  71],\n",
       "        [192, 139,  89],\n",
       "        ...,\n",
       "        [226, 177, 137],\n",
       "        [225, 178, 134],\n",
       "        [220, 172, 126]],\n",
       "\n",
       "       [[199, 134,  78],\n",
       "        [190, 128,  71],\n",
       "        [195, 134,  79],\n",
       "        ...,\n",
       "        [226, 171, 130],\n",
       "        [224, 173, 130],\n",
       "        [222, 171, 124]],\n",
       "\n",
       "       ...,\n",
       "\n",
       "       [[ 31,  36,  42],\n",
       "        [ 32,  37,  43],\n",
       "        [ 27,  34,  42],\n",
       "        ...,\n",
       "        [226, 227, 221],\n",
       "        [226, 227, 222],\n",
       "        [226, 227, 222]],\n",
       "\n",
       "       [[ 33,  38,  42],\n",
       "        [ 29,  36,  44],\n",
       "        [ 29,  36,  46],\n",
       "        ...,\n",
       "        [232, 232, 232],\n",
       "        [231, 226, 230],\n",
       "        [225, 224, 222]],\n",
       "\n",
       "       [[ 33,  41,  44],\n",
       "        [ 31,  35,  44],\n",
       "        [ 24,  28,  39],\n",
       "        ...,\n",
       "        [150, 143, 117],\n",
       "        [158, 147, 115],\n",
       "        [145, 139, 103]]], dtype=uint8)"
      ]
     },
     "execution_count": 7,
     "metadata": {},
     "output_type": "execute_result"
    }
   ],
   "source": [
    "X[0]"
   ]
  },
  {
   "cell_type": "code",
   "execution_count": 8,
   "metadata": {},
   "outputs": [
    {
     "data": {
      "text/plain": [
       "600"
      ]
     },
     "execution_count": 8,
     "metadata": {},
     "output_type": "execute_result"
    }
   ],
   "source": [
    "len(X)"
   ]
  },
  {
   "cell_type": "code",
   "execution_count": 9,
   "metadata": {},
   "outputs": [
    {
     "data": {
      "text/plain": [
       "array([[[196, 155, 103],\n",
       "        [206, 175, 131],\n",
       "        [205, 177, 137],\n",
       "        ...,\n",
       "        [225, 183, 143],\n",
       "        [229, 178, 135],\n",
       "        [217, 165, 118]],\n",
       "\n",
       "       [[207, 130,  76],\n",
       "        [187, 124,  71],\n",
       "        [192, 139,  89],\n",
       "        ...,\n",
       "        [226, 177, 137],\n",
       "        [225, 178, 134],\n",
       "        [220, 172, 126]],\n",
       "\n",
       "       [[199, 134,  78],\n",
       "        [190, 128,  71],\n",
       "        [195, 134,  79],\n",
       "        ...,\n",
       "        [226, 171, 130],\n",
       "        [224, 173, 130],\n",
       "        [222, 171, 124]],\n",
       "\n",
       "       ...,\n",
       "\n",
       "       [[ 31,  36,  42],\n",
       "        [ 32,  37,  43],\n",
       "        [ 27,  34,  42],\n",
       "        ...,\n",
       "        [226, 227, 221],\n",
       "        [226, 227, 222],\n",
       "        [226, 227, 222]],\n",
       "\n",
       "       [[ 33,  38,  42],\n",
       "        [ 29,  36,  44],\n",
       "        [ 29,  36,  46],\n",
       "        ...,\n",
       "        [232, 232, 232],\n",
       "        [231, 226, 230],\n",
       "        [225, 224, 222]],\n",
       "\n",
       "       [[ 33,  41,  44],\n",
       "        [ 31,  35,  44],\n",
       "        [ 24,  28,  39],\n",
       "        ...,\n",
       "        [150, 143, 117],\n",
       "        [158, 147, 115],\n",
       "        [145, 139, 103]]], dtype=uint8)"
      ]
     },
     "execution_count": 9,
     "metadata": {},
     "output_type": "execute_result"
    }
   ],
   "source": [
    "Y[0]"
   ]
  },
  {
   "cell_type": "code",
   "execution_count": 10,
   "metadata": {},
   "outputs": [
    {
     "data": {
      "text/plain": [
       "array([[[104, 104, 106],\n",
       "        [122, 139, 105],\n",
       "        [136, 149, 119],\n",
       "        ...,\n",
       "        [ 17,  27,  54],\n",
       "        [ 22,  29,  45],\n",
       "        [ 18,  25,  41]],\n",
       "\n",
       "       [[ 76,  83,  50],\n",
       "        [ 83, 104,  39],\n",
       "        [ 97, 117,  54],\n",
       "        ...,\n",
       "        [ 28,  35,  45],\n",
       "        [ 25,  31,  45],\n",
       "        [ 24,  30,  44]],\n",
       "\n",
       "       [[ 77,  87,  60],\n",
       "        [ 84, 105,  40],\n",
       "        [ 93, 114,  47],\n",
       "        ...,\n",
       "        [ 26,  31,  37],\n",
       "        [ 25,  31,  43],\n",
       "        [ 25,  31,  43]],\n",
       "\n",
       "       ...,\n",
       "\n",
       "       [[  6,   4,   7],\n",
       "        [  9,   7,  10],\n",
       "        [ 11,   9,  10],\n",
       "        ...,\n",
       "        [  6,   7,  12],\n",
       "        [  4,   2,   7],\n",
       "        [  6,   4,   9]],\n",
       "\n",
       "       [[ 12,  11,   6],\n",
       "        [ 14,  11,   6],\n",
       "        [ 17,  12,   8],\n",
       "        ...,\n",
       "        [ 10,  13,  18],\n",
       "        [  5,   4,   9],\n",
       "        [  7,   7,   7]],\n",
       "\n",
       "       [[ 12,  12,  10],\n",
       "        [  9,   8,   6],\n",
       "        [  8,   7,   5],\n",
       "        ...,\n",
       "        [  8,  13,  16],\n",
       "        [  5,   4,  10],\n",
       "        [  7,   6,  11]]], dtype=uint8)"
      ]
     },
     "execution_count": 10,
     "metadata": {},
     "output_type": "execute_result"
    }
   ],
   "source": [
    "Y[100]"
   ]
  },
  {
   "cell_type": "code",
   "execution_count": 11,
   "metadata": {},
   "outputs": [],
   "source": [
    "from PIL import Image                   #\n",
    "import os, glob                         #ファイルを扱う、ファイルの一覧を取得する\n",
    "import numpy as np                      #配列を扱うため\n",
    "#from sklearn import cross_validation    #データをトレーニング用とテストに分けるためのツール\n",
    "from sklearn import model_selection\n",
    "\n",
    "classes = [\"monkey\",\"boar\",\"crow\"]      #検索した単語\n",
    "num_classes = len(classes)              #クラスの数を変数へ\n",
    "image_size = 50                         #計算時間短縮のためサイズを小さく変更\n",
    "\n",
    "#画像の読み込み\n",
    "\n",
    "X = []                                  #画像データを入れる空の配列\n",
    "Y = []                                  #ラベルデータを入れる空の配列\n",
    "\n",
    "for index, classlabel in enumerate(classes):                 #クラスを順番に取り出して、同時に番号も入れる\n",
    "    phtos_dir = \"./\" + classlabel                            #画像のディレクトリ\n",
    "    files = glob.glob(phtos_dir + \"/*.jpg\")             #ファイルの一覧をまとめて取得\n",
    "    #一覧の中からファイルを取り出す\n",
    "    for i, file in enumerate(files):\n",
    "        if i >= 200: break                              #200回を超えたら処理しない\n",
    "        image = Image.open(file)                        #ファイルを開く\n",
    "        image = image.convert(\"RGB\")                    #ファイルを赤青緑に変換\n",
    "        image = image.resize((image_size, image_size))  #サイズを揃える\n",
    "        data = np.asarray(image)                        #イメージを数字の配列に変換して入れる\n",
    "        X.append(data)                                  #Xの最後尾に追加\n",
    "        Y.append(index)                                 #Yの最後尾に追加（順番に数字が入る）\n",
    "\n",
    "X = np.array(X)      #TensorFlowが扱いやすいデータ型に揃える\n",
    "Y = np.array(Y)      #TensorFlowが扱いやすいデータ型に揃える\n"
   ]
  },
  {
   "cell_type": "code",
   "execution_count": 12,
   "metadata": {},
   "outputs": [
    {
     "data": {
      "text/plain": [
       "array([[[196, 155, 103],\n",
       "        [206, 175, 131],\n",
       "        [205, 177, 137],\n",
       "        ...,\n",
       "        [225, 183, 143],\n",
       "        [229, 178, 135],\n",
       "        [217, 165, 118]],\n",
       "\n",
       "       [[207, 130,  76],\n",
       "        [187, 124,  71],\n",
       "        [192, 139,  89],\n",
       "        ...,\n",
       "        [226, 177, 137],\n",
       "        [225, 178, 134],\n",
       "        [220, 172, 126]],\n",
       "\n",
       "       [[199, 134,  78],\n",
       "        [190, 128,  71],\n",
       "        [195, 134,  79],\n",
       "        ...,\n",
       "        [226, 171, 130],\n",
       "        [224, 173, 130],\n",
       "        [222, 171, 124]],\n",
       "\n",
       "       ...,\n",
       "\n",
       "       [[ 31,  36,  42],\n",
       "        [ 32,  37,  43],\n",
       "        [ 27,  34,  42],\n",
       "        ...,\n",
       "        [226, 227, 221],\n",
       "        [226, 227, 222],\n",
       "        [226, 227, 222]],\n",
       "\n",
       "       [[ 33,  38,  42],\n",
       "        [ 29,  36,  44],\n",
       "        [ 29,  36,  46],\n",
       "        ...,\n",
       "        [232, 232, 232],\n",
       "        [231, 226, 230],\n",
       "        [225, 224, 222]],\n",
       "\n",
       "       [[ 33,  41,  44],\n",
       "        [ 31,  35,  44],\n",
       "        [ 24,  28,  39],\n",
       "        ...,\n",
       "        [150, 143, 117],\n",
       "        [158, 147, 115],\n",
       "        [145, 139, 103]]], dtype=uint8)"
      ]
     },
     "execution_count": 12,
     "metadata": {},
     "output_type": "execute_result"
    }
   ],
   "source": [
    "X[0]"
   ]
  },
  {
   "cell_type": "code",
   "execution_count": 13,
   "metadata": {},
   "outputs": [
    {
     "data": {
      "text/plain": [
       "0"
      ]
     },
     "execution_count": 13,
     "metadata": {},
     "output_type": "execute_result"
    }
   ],
   "source": [
    "Y[100]"
   ]
  },
  {
   "cell_type": "code",
   "execution_count": 14,
   "metadata": {},
   "outputs": [
    {
     "data": {
      "text/plain": [
       "1"
      ]
     },
     "execution_count": 14,
     "metadata": {},
     "output_type": "execute_result"
    }
   ],
   "source": [
    "Y[200]"
   ]
  },
  {
   "cell_type": "code",
   "execution_count": 15,
   "metadata": {},
   "outputs": [
    {
     "data": {
      "text/plain": [
       "0"
      ]
     },
     "execution_count": 15,
     "metadata": {},
     "output_type": "execute_result"
    }
   ],
   "source": [
    "Y[199]"
   ]
  },
  {
   "cell_type": "code",
   "execution_count": 16,
   "metadata": {},
   "outputs": [
    {
     "data": {
      "text/plain": [
       "2"
      ]
     },
     "execution_count": 16,
     "metadata": {},
     "output_type": "execute_result"
    }
   ],
   "source": [
    "Y[450]"
   ]
  },
  {
   "cell_type": "code",
   "execution_count": null,
   "metadata": {},
   "outputs": [],
   "source": []
  }
 ],
 "metadata": {
  "kernelspec": {
   "display_name": "Python 3",
   "language": "python",
   "name": "python3"
  },
  "language_info": {
   "codemirror_mode": {
    "name": "ipython",
    "version": 3
   },
   "file_extension": ".py",
   "mimetype": "text/x-python",
   "name": "python",
   "nbconvert_exporter": "python",
   "pygments_lexer": "ipython3",
   "version": "3.6.8"
  }
 },
 "nbformat": 4,
 "nbformat_minor": 2
}
